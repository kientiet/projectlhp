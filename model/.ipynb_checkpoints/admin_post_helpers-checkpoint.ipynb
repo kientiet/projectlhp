{
 "cells": [
  {
   "cell_type": "markdown",
   "metadata": {
    "colab_type": "text",
    "id": "o0sHwHzM58Ip"
   },
   "source": [
    "# Project LHP\n",
    "I have been running a facebook page for my high school students where they can send their confessions about our high school or anything. When they send our the confessions, as admins, we read through these confessions and then post to the facebook page if the confessions approriate. \n",
    "\n",
    "In my opinion, this process takes lots of time. Therefore, I want to integrate natural language processing technique to the system in order to help admins to see **how well readers will engage in our content**\n",
    "\n",
    "This project is developed on Google Colab."
   ]
  },
  {
   "cell_type": "markdown",
   "metadata": {
    "colab_type": "text",
    "id": "B32Arrnv1YY6"
   },
   "source": [
    "# Necessary package"
   ]
  },
  {
   "cell_type": "code",
   "execution_count": null,
   "metadata": {
    "colab": {},
    "colab_type": "code",
    "id": "53-l2yeoHSIR"
   },
   "outputs": [],
   "source": [
    "%reload_ext autoreload\n",
    "%autoreload 2|\n",
    "%matplotlib inline"
   ]
  },
  {
   "cell_type": "code",
   "execution_count": null,
   "metadata": {
    "colab": {},
    "colab_type": "code",
    "id": "HcDCtB5XSv7U"
   },
   "outputs": [],
   "source": [
    "from fastai import *\n",
    "from fastai.vision import *\n",
    "from fastai.text import *\n",
    "from fastai.callbacks import *"
   ]
  },
  {
   "cell_type": "code",
   "execution_count": null,
   "metadata": {
    "colab": {},
    "colab_type": "code",
    "id": "Y074WmlDS03k"
   },
   "outputs": [],
   "source": [
    "import numpy as np\n",
    "import pandas as pd\n",
    "import torch\n",
    "import re\n",
    "from tqdm import tqdm"
   ]
  },
  {
   "cell_type": "markdown",
   "metadata": {
    "colab_type": "text",
    "id": "0VYOIJe89eI-"
   },
   "source": [
    "# Set up environment"
   ]
  },
  {
   "cell_type": "code",
   "execution_count": 59,
   "metadata": {
    "colab": {
     "base_uri": "https://localhost:8080/",
     "height": 34
    },
    "colab_type": "code",
    "id": "-y4rY4uF9gja",
    "outputId": "468c3fd5-e72a-441e-d9f5-5fac6144ed7e"
   },
   "outputs": [
    {
     "data": {
      "text/plain": [
       "'Tesla T4'"
      ]
     },
     "execution_count": 59,
     "metadata": {
      "tags": []
     },
     "output_type": "execute_result"
    }
   ],
   "source": [
    "device = torch.device(\"cuda\" if torch.cuda.is_available() else \"cpu\")\n",
    "n_gpu = torch.cuda.device_count()\n",
    "torch.cuda.get_device_name(0) "
   ]
  },
  {
   "cell_type": "markdown",
   "metadata": {
    "colab_type": "text",
    "id": "KSeKvAsdS-iF"
   },
   "source": [
    "# Preprocessing the data"
   ]
  },
  {
   "cell_type": "markdown",
   "metadata": {
    "colab_type": "text",
    "id": "rvKPYkstwUZ5"
   },
   "source": [
    "## Input text"
   ]
  },
  {
   "cell_type": "code",
   "execution_count": null,
   "metadata": {
    "colab": {},
    "colab_type": "code",
    "id": "2_V_gnG_wWPB"
   },
   "outputs": [],
   "source": [
    "import os\n",
    "\n",
    "# Append different confessions to enhance the data base \n",
    "# Also add new column to each dataframe to indicate the source of it\n",
    "# For the test-set - Test on the new confessions\n",
    "# \n",
    "confessions_links = [\"data/lhpconfessions_facebook_statuses.csv\", \"data/rmitvnconf_facebook_statuses.csv\", \n",
    "                     \"data/NthersConfessions_facebook_statuses.csv\", \"data/PtnkConfession_facebook_statuses.csv\"]\n",
    "\n",
    "confessions = pd.DataFrame()\n",
    "pattern = \"(\\w+)_(\\w+)_(\\w+)\"\n",
    "\n",
    "for link in confessions_links:\n",
    "  individual_confessions = pd.read_csv(link)\n",
    "  individual_confessions[\"source\"] = re.search(pattern, link).group(1)\n",
    "  \n",
    "  confessions[\"key\"] = 1\n",
    "  individual_confessions[\"key\"] = 1\n",
    "  \n",
    "  temp = pd.merge(confessions, individual_confessions, how = \"outer\")\n",
    "  confessions = temp.drop(\"key\", axis = 1)\n",
    "  \n",
    "\n",
    "print(confessions[:5])\n",
    "print(\"Amount of data %d\" % len(confessions))"
   ]
  },
  {
   "cell_type": "markdown",
   "metadata": {
    "colab_type": "text",
    "id": "UoH-H5v3yH4C"
   },
   "source": [
    "## Eliminate some corpus\n"
   ]
  },
  {
   "cell_type": "code",
   "execution_count": null,
   "metadata": {
    "colab": {},
    "colab_type": "code",
    "id": "UjyBrQQoyQJb"
   },
   "outputs": [],
   "source": [
    "status_type = confessions[\"status_type\"].unique()\n",
    "status_type\n",
    "keep = [\"status\", \"note\"]\n",
    "confessions = confessions.loc[confessions[\"status_type\"].isin(keep)]\n",
    "confessions = confessions[pd.notnull(confessions[\"status_message\"])]\n",
    "print(\"There is %d corpus with valid message\" % len(confessions))\n",
    "confessions.head()"
   ]
  },
  {
   "cell_type": "code",
   "execution_count": null,
   "metadata": {
    "colab": {},
    "colab_type": "code",
    "id": "_hzyp5xDyix8"
   },
   "outputs": [],
   "source": [
    "# Eliminate corpus that only have like\n",
    "confessions = confessions.loc[confessions[\"num_likes\"] != confessions[\"num_reactions\"]]\n",
    "print(\"There is %d corpus with various reactions instead of likes\" % len(confessions))\n",
    "confessions.head()"
   ]
  },
  {
   "cell_type": "code",
   "execution_count": null,
   "metadata": {
    "colab": {},
    "colab_type": "code",
    "id": "eLLANui8bRr7"
   },
   "outputs": [],
   "source": [
    "# Normalize all the reactions columns\n",
    "import sklearn\n",
    "from sklearn import preprocessing\n",
    "\n",
    "normalize_all = False\n",
    "\n",
    "reaction_status = ['num_likes', 'num_loves', 'num_wows', 'num_hahas', 'num_sads', 'num_angrys']\n",
    "transformations = preprocessing.MinMaxScaler()\n",
    "\n",
    "if normalize_all:\n",
    "  max_reactions = np.max(confessions.loc[:, reaction_status].max().values)\n",
    "  min_reactions = np.min(confessions.loc[:, reaction_status].min().values)\n",
    "\n",
    "  print(max_reactions)\n",
    "\n",
    "  confessions[\"max_reactions\"] = max_reactions\n",
    "  confessions[\"min_reactions\"] = min_reactions\n",
    "\n",
    "else:\n",
    "  confessions[reaction_status] = transformations.fit_transform(confessions[reaction_status].values)\n",
    "  \n",
    "  '''\n",
    "    Encounter some bias to the model\n",
    "  '''\n",
    "  \n",
    "#   means = confessions.loc[:, reaction_status].mean().values\n",
    "  \n",
    "confessions.head()\n",
    "# Normalize different columns\n"
   ]
  },
  {
   "cell_type": "code",
   "execution_count": null,
   "metadata": {
    "colab": {},
    "colab_type": "code",
    "id": "aa16gDzL7bka"
   },
   "outputs": [],
   "source": [
    "# Without pre-processing the content\n",
    "confessions.to_csv(os.getcwd() + \"/data/statuses_without_preprocess.csv\", index = False)"
   ]
  },
  {
   "cell_type": "markdown",
   "metadata": {
    "colab_type": "text",
    "id": "oCXr8xo5vi94"
   },
   "source": [
    "##Cleaning the corpus"
   ]
  },
  {
   "cell_type": "code",
   "execution_count": null,
   "metadata": {
    "colab": {},
    "colab_type": "code",
    "id": "HWH2_NrxvvJN"
   },
   "outputs": [],
   "source": [
    "# Undersea library\n",
    "from underthesea import sent_tokenize, word_tokenize\n",
    "import string\n",
    "\n",
    "# Lowercase the text in the content\n",
    "def lowerContent(content: str, isDebug: bool = False):\n",
    "    if isDebug:\n",
    "        print(\">> The content with all lowercase:\\n %s\" % content.lower())\n",
    "    return content.lower()\n",
    "\n",
    "# Remove all the number\n",
    "def removeNumber(content: str, isDebug: bool = False):\n",
    "    content = re.sub(r\"\\d+\", \"\", content)\n",
    "    if isDebug:\n",
    "        print(\">> The content without any numbers:\\n %s\" % content)\n",
    "    return content\n",
    "\n",
    "# Remove all the punctuation\n",
    "def removePunctuation(content: str, isDebug: bool = False):\n",
    "  # content = content.replace(\".\", \"[MASKDOTSIGN]\")\n",
    "  content = content.translate(str.maketrans(\"\", \"\", string.punctuation))\n",
    "  # content = content.replace(\"MASKDOTSIGN\", \".\")\n",
    "  if isDebug:\n",
    "      print(\">> The content without any punctuation:\\n %s\" % content)\n",
    "  return content\n",
    "\n",
    "# Remove the white space\n",
    "def removeWhiteSpace(content: str, isDebug: bool = False):\n",
    "    content = content.strip()\n",
    "    if isDebug:\n",
    "        print(\">> The content without any whitespace:\\n %s\" % content)\n",
    "    return content\n",
    "\n",
    "def singleSpace(content: str, isDebug: bool = False):\n",
    "    content = ' '.join(content.split())\n",
    "    if isDebug:\n",
    "        print(\">> The content with single space:\\n %s\" % content)\n",
    "    return content\n",
    "\n",
    "# Basic cleaning\n",
    "def cleaningProcess(content: str):\n",
    "  '''\n",
    "    TODO: To do pre-train on the content with BERT, we want to keep the \".\" only so \n",
    "    I will change the \".\" to \"MASKDOTSIGN\" then after the preprocess, I will change \n",
    "    back to \".\"\n",
    "  ''' \n",
    "  content = lowerContent(content)\n",
    "  content = removeNumber(content)\n",
    "  content = removePunctuation(content)\n",
    "  content = removeWhiteSpace(content)\n",
    "  content = singleSpace(content)\n",
    "  return content\n",
    "\n",
    "pre_process = []\n",
    "for index, row in tqdm(confessions.iterrows(), total = len(confessions)):\n",
    "  temp = cleaningProcess(row[\"status_message\"])\n",
    "  pre_process.append(cleaningProcess(row[\"status_message\"]))\n",
    "print(\"\\n\" + pre_process[0])\n",
    " "
   ]
  },
  {
   "cell_type": "code",
   "execution_count": null,
   "metadata": {
    "colab": {},
    "colab_type": "code",
    "id": "rZBnHyYfylX3"
   },
   "outputs": [],
   "source": [
    "# Save all the pre-processing content\n",
    "confessions[\"status_message\"] = pre_process\n",
    "print(\"Amount of saving content %d\" % len(confessions))\n",
    "confessions.head()\n",
    "print(\"The file saved in %s\" % os.getcwd() + \"/data/statuses_with_preprocess.csv\")\n",
    "confessions.to_csv(os.getcwd() + \"/data/statuses_with_preprocess.csv\", index = False)\n",
    "confessions.head()"
   ]
  },
  {
   "cell_type": "markdown",
   "metadata": {
    "colab_type": "text",
    "id": "p5Sq0Y3xvtJ5"
   },
   "source": [
    "# Embed Fastai with BERT"
   ]
  },
  {
   "cell_type": "code",
   "execution_count": null,
   "metadata": {
    "colab": {},
    "colab_type": "code",
    "id": "6ZIKwyMe2247"
   },
   "outputs": [],
   "source": [
    "class Config(dict):\n",
    "    def __init__(self, **kwargs):\n",
    "        super().__init__(**kwargs)\n",
    "        for k, v in kwargs.items():\n",
    "            setattr(self, k, v)\n",
    "    \n",
    "    def set(self, key, val):\n",
    "        self[key] = val\n",
    "        setattr(self, key, val)\n",
    "\n",
    "config = Config(\n",
    "    testing=False,\n",
    "    bert_model_name=\"bert-base-multilingual-cased\",\n",
    "    max_lr=3e-5,\n",
    "    bs = 16,\n",
    "   use_fp16=True,\n",
    "    freeze_epochs=2,\n",
    "    unfreeze_epochs=4,\n",
    "    discriminative=False,\n",
    "    max_seq_len=300,\n",
    ")"
   ]
  },
  {
   "cell_type": "code",
   "execution_count": 61,
   "metadata": {
    "colab": {
     "base_uri": "https://localhost:8080/",
     "height": 54
    },
    "colab_type": "code",
    "id": "A0enilY80w6s",
    "outputId": "c6be40f3-37fe-46b5-b5d3-09e63bd78fad"
   },
   "outputs": [
    {
     "name": "stderr",
     "output_type": "stream",
     "text": [
      "The pre-trained model you are loading is a cased model but you have not set `do_lower_case` to False. We are setting `do_lower_case=False` for you but you may want to check this behavior.\n"
     ]
    }
   ],
   "source": [
    "from pytorch_pretrained_bert import BertTokenizer \n",
    "bert_tok = BertTokenizer.from_pretrained(\"bert-base-multilingual-cased\")"
   ]
  },
  {
   "cell_type": "code",
   "execution_count": null,
   "metadata": {
    "colab": {},
    "colab_type": "code",
    "id": "odQkPHO91NnP"
   },
   "outputs": [],
   "source": [
    "class FastAiBertTokenizer(BaseTokenizer): \n",
    "    \"\"\"Wrapper around BertTokenizer to be compatible with fast.ai\"\"\"\n",
    "    def __init__(self, tokenizer: BertTokenizer, max_seq_len: int=128, **kwargs): \n",
    "      self._pretrained_tokenizer = tokenizer\n",
    "      self.max_seq_len = max_seq_len \n",
    "           \n",
    "    def __call__(self, *args, **kwargs): \n",
    "      return self \n",
    "    \n",
    "    def tokenizer(self, t:str) -> List[str]:\n",
    "      \"\"\"Limits the maximum sequence length\"\"\" \n",
    "      return [\"[CLS]\"] + self._pretrained_tokenizer.tokenize(t)[:self.max_seq_len - 2] + [\"[SEP]\"]\n",
    "\n",
    "fastai_tokenizer = Tokenizer(tok_func=FastAiBertTokenizer(bert_tok, max_seq_len=config.max_seq_len), pre_rules=[], post_rules=[])"
   ]
  },
  {
   "cell_type": "code",
   "execution_count": null,
   "metadata": {
    "colab": {},
    "colab_type": "code",
    "id": "RWK10WCw2MDB"
   },
   "outputs": [],
   "source": [
    "fastai_bert_vocab = Vocab(list(bert_tok.vocab.keys()))"
   ]
  },
  {
   "cell_type": "markdown",
   "metadata": {
    "colab_type": "text",
    "id": "rCskYtBSrHQq"
   },
   "source": [
    "# Regression Classifier with prediction reactions"
   ]
  },
  {
   "cell_type": "code",
   "execution_count": 83,
   "metadata": {
    "colab": {
     "base_uri": "https://localhost:8080/",
     "height": 326
    },
    "colab_type": "code",
    "id": "K6QChnCxrK8o",
    "outputId": "d052651d-b7d0-4ada-d03f-21ef6fe926cb"
   },
   "outputs": [
    {
     "data": {
      "text/plain": [
       "TextClasDataBunch;\n",
       "\n",
       "Train: LabelList (1458 items)\n",
       "x: TextList\n",
       "[CLS] n ##k ##c ##f là một học sinh trường ngoài có bạn của cả cơ sở c ##s với con mắt của người ngoài cuộc mình nhìn nhận vấn đề c ##s của các bạn như sau thứ nhất về chất lượng giảng dạy thì cũng có rất nhiều th ##ầy cô c ##s qua c ##s dạy đề kiểm tra cũng tương tự nên mình nói chất lượng giảng dạy là như nhau về chất lượng học sinh điểm đầu vào c ##s cao hơn c ##s nên chất lượng học sinh c ##s hơn c ##s và điều đó thể hiện qua số lượng học sinh gi ##ỏ ##i học sinh khá học sinh gi ##ỏ ##i c ##s vẫn tương đương học sinh gi ##ỏ ##i c ##s không khác gì cả về môi trường học tập c ##s t ##ụ tập những bạn rất gi ##ỏ ##i lại với nhau nên là một môi trường tốt để nâng cao tri thức nhưng còn về vui chơi giải trí với diện tích rộng cơ sở vật chất tốt c ##s rõ ràng ăn đ ##ứt c ##s với những sân ban ##h sân bóng r ##ổ chính nhờ c ##s mà các bạn mới có những buổi lửa trại th ##âu đêm những chuyến đi chơi thú vị ##th ##ế nên các bạn đ ##ừng có nói kiểu không mon ##g c ##s tồn tại nếu được lựa chọn mình vẫn thích là học sinh gi ##ỏ ##i ở c ##s hơn là c ##s và từ ba điều trên mình muốn nói là c ##s hoàn toàn như nhau chủ yếu là do người học những bạn c ##s đ ##ừng đổ l ##ỗi vì tại trường thế này thế n ##ọ mà mình [SEP],[CLS] chạy đến trước mặt bạn nữ mình thích rồi nằm xuống sau đó nói bạn gì ơ ##i bạn đánh rơi bạn trai n ##è nếu t ##ớ làm thế cậu có chịu n ##h ##ặt t ##ớ về không cậu [SEP],[CLS] cf ##s từ ca l ##h ##p gửi đến c nt ##h à tha cho tu ##i vì tu ##i viết văn d ##ở t ##ệ n ##hé thân nhau hết năm cấp hai vậy mà tu ##i vẫn còn nhiều chuyện muốn nói quá lên cấp ba rồi lại không cùng trường nữa tu ##i cảm thấy hai đ ##ứa t ##ụ ##i mình không còn được như trước bạn b ##è mới môi trường mới th ##ầy cô mới thời gian gặp nhau cũng ít đi nhiều thiệt sự là tu ##i nhớ bà l ##ắm l ##ắm t ##ụ ##i mình chỉ còn gặp nhau ở lớp học thêm và d ##ường như điều đó là không đủ tu ##i còn nhớ khi có kết quả tuyển sinh khi tu ##i m ##ừng h ##ú ##m vì đ ##ậu được vào l ##h ##p thì bà thì như s ##ụp đổ vì không đ ##ậu chuyên tu ##i vốn vụ ##ng về trong cách xử sự nên lúc bà như vậy tu ##i cũng không thể tìm được cách nào để cho bà cảm thấy khá hơn rồi đến lúc người bà thích bỏ rơi bà và tu ##i vốn gh ##ét người đó từ lâu tu ##i đã vì những cảm xúc nhỏ n ##h ##ặt với người đó của bà mà không biết an ủ ##i dù cho việc bà quen người đó với tu ##i là một sai l ##ầm tu ##i viết cái này là muốn xin l ##ỗi bà vì có thể sau này tu ##i không thể làm chuyện đó nữa cảm ơ ##n bà vì luôn n ##h ##ẫn n ##hị ##n luôn chiều theo những cảm xúc trẻ con của tu ##i và tu ##i hy vọng [SEP],[CLS] cf ##s mình để ý cậu từ hồi đầu lớp cậu hay cư ##ời vô tư và hơi nghị ##ch nữa cậu n ##h ##ảy flash ##mo ##b cậu cư ##ời nhiều nhất dù lớp cậu không vào cậu vẫn nhiệt tình cổ vũ lớp khác mình đã xác định là mình đã đổ cậu ầ ##m ầ ##m rồi cậu tập bóng chu ##yền m ##ồ h ##ôi ư ##ớt đ ##ẫ ##m tr ##án n ##ắng g ##ắt nó ##ng n ##ực nhưng không ngờ mình lại thấy n ##ụ cư ##ời của cậu còn r ##ạng r ##ỡ hơn h ##ẳ ##n mọi khi cậu cư ##ời với anh ấy như thể trong ánh mắt cậu chỉ có mỗi anh ấy vậy rồi cậu thi vận động dưới sân lớp cậu thắng người đầu tiên cậu tìm là anh ấy cậu mã ##i nhìn lên l ##ầu và ở đó có anh ấy hai người lại cư ##ời với nhau mình thật sự hết hy vọng rồi phải không khi mà mình có cảm giác anh ấy là tất cả ni ##ềm vui của cậu như vậy nếu đúng dù không vui nhưng mình mon ##g cậu có thể theo đuổi được anh ấy bằng tất cả lòng nhiệt thành của cậu n ##hé mình thích cậu chân thành âm th ##ầm một buổi chiều cùng tất cả n ##ỗi lòng gửi cậu bal ##ont ##h ##hm ##h từ một người mà cậu chẳng biết là ai [SEP],[CLS] n ##k ##c ##f ng ta thường nói ch ##àng trai ở bên cạnh bạn năm tuổi sẽ không thể đi cùng bạn đến cuối cuộc đời với tôi ch ##àng trai ở cạnh tôi năm tuổi đã luôn bên tôi từ thư ##ở và sẽ mã ##i như thế đến tận mai sau [UNK] gửi đến a trong ch ##àng trai của v năm ấy bọ ##n mình giờ tuổi mà đã ch ##ường mặt trong cuộc sống của nhau d ##c h ##ẳ ##n năm phần cuộc đời ù ##i đó lo ##l mà còn là khoảng thời gian đẹp đ ##ẽ vô tư và trong sáng nhất của đời người nữa he ##he p hồi í khi chuẩn bị nhập học e đã nghĩ lớp văn là thấy khỏi có ng iu cùng lớp r lo ##l vào học ch ##àng trai e chỉ chơi với ng là nhiều a và ch ##àng còn lại chỉ ng ##ồi t ##ụ ##m với nhau cũng chẳng hòa vào cùng đá ##m con gái và những trò qu ##ậ ##y bọ ##n e b ##ầy ra hết cả tháng đầu ừ rồi thì nguyên lớp cũng dần chơi hết với nhau e cũng có d ##ị ##p nói chuyện với a nhiều hơn và d ##c nghe a kể về cô ng iu a vừa quen mà ng ##ồi cách e có bạn và cái l ##ối đi ch ##ứ đ ##âu e ra ##o hết cho mọi ng hơi m ##d lo ##l x ##ong cả lớp ch ##ọc bọ ##n a tư ##ng b ##ừng lu ##nn và cũng thật định m ##ệnh đ ##m a phát hiện trong những ng đang theo đuổi e khi í là bạn thân hồi cấp của a a [SEP]\n",
       "y: FloatList\n",
       "[0.018687 0.007653 0.00625  0.00058  0.       0.      ],[0.684262 0.913265 0.015625 0.222738 0.0016   0.076923],[0.012863 0.020408 0.       0.       0.       0.      ],[0.016017 0.005102 0.       0.       0.       0.      ],[0.032399 0.173469 0.003125 0.00348  0.0016   0.      ]\n",
       "Path: /content/gdrive/My Drive/projectlhp/data;\n",
       "\n",
       "Valid: LabelList (487 items)\n",
       "x: TextList\n",
       "[CLS] nếu như viết cf ##s phê phán người trong một hoàn cảnh cụ thể nào đó là á ##c ý muốn cả trường đều biết tiếng x ##ấu của người khác thì việc giả danh người khác đó để viết cf ##s than v ##ãn lại còn cố tình l ##ồng vào những câu văn mang đặc điểm nhận dạng cố ##t để m ##ỉ ##a mai làm ảnh hưởng x ##ấu tới danh tiếng người khác thì cũng không phải là một trò hay ho gì các em ##b ##ạn có biết th ##à phê phán thẳng vào mặt người khác ngoài đời thì họ cũng chỉ n ##h ##ục cùng l ##ắm là với lớp nhưng bày trò trên mạng xã hội như vậy thì rất là độc á ##c ko cách tốt nhất vẫn là l ##ặng th ##ầm in ##box hay deep conversation vài ba lần mục đích là để người ta thay đổi đem public chuyện của người khác như thế cho thấy mục đích của các em ##b ##ạn đ ##âu có tốt là ##nh gì chỉ muốn cô lập h ##ã ##m hại người khác các em ##b ##ạn đông người hơn thì cứ cho mình đúng nhưng cũng đ ##ừng vì thế mà trấn áp một hai người họ có mean girl có bit ##chy thế nào thì tự họ đã bị cô lập rồi các em ##b ##ạn đổ dầu vào lửa thì cũng có ngày các em ##b ##ạn cũng sẽ gặp lại chuyện tương tự th ##ôi [SEP],[CLS] n ##k ##c ##f gửi anh người con trai em đã từng thương suốt năm năm qua cảm ơ ##n anh vì đã như một người anh trai tốt cho dù anh biết tình cảm của em giành cho anh em không muốn thổ lộ mặc dù em biết kết quả không như mon ##g đ ##ợi em giữ riêng cho mình xem đó như là tình cảm tuổi học trò tuyệt đẹp giữ riêng cho mình những lúc đang bu ##ồn đứng ở hành lang nhìn xuống sân trường anh đã m ##ỏ ##i chân khi leo lên đó và hỏi em nhưng em lại gi ##ận và chạy đi có lúc vì gi ##ận anh mà em ú ##p mặt khó ##c trong giờ âm nhạc lúc đó em thật trẻ con giữ riêng cho mình những lúc gi ##ận anh vô c ##ớ anh đã chủ động n ##h ##ắn tin hỏi như người anh trai giữ riêng cho mình g ##óc ng ##ã ba đường và giữ riêng cho mình những ngày tháng anh l ##ẩn tránh em xem em như kẻ bá ##m đuôi những lần n ##h ##ắn tin cho anh chỉ nhận lại đã xem hoặc trả lời ngắn g ##ọn không còn thân như trước b ##ây giờ cũng vậy anh học ở năng khi ##ếu s ##ắp có những bước ng ##o ##ặc mới cho cuộc đời vì sợ làm phi ##ền anh sợ anh nghĩ em là con nhỏ phi ##ền ph ##ức em đã không dá ##m n ##h ##ắn tin cho anh dù là hỏi bài chỉ muốn anh tập trung ô ##n thi th ##pt em biết em đã sống hai mặt trước mặt anh và mọi người em xin l ##ỗi con người em [SEP],[CLS] cf ##s em tới đây không phải với tư cách của một học sinh trong trường chỉ là em đang bu ##ồn l ##ắm và cần được chia s ##ẻ cũng như cần lời khu ##yên mà không biết nói với ai h ##ẳ ##n là cũng có rất nhiều người từng trải qua cảm giác của em b ##ây giờ em thích một người lúc trước em với người đó nói chuyện với nhau thường xuyên l ##ắm quan tâm lo l ##ắng hỏi han các thứ thật sự đó là người rất dễ thương đối với em thì người đó quá sức dễ thương cái cách nói chuyện của người con trai với người con gái chưa bao giờ em thấy có ai nói chuyện với mình nhẹ nhà ##ng và đáng yêu đến như thế em thật sự đã có cảm tình với người đó lúc trước dù chưa có một lời thổ lộ hay tỏ tình nhưng người đó từng nói nhớ em sau một ngày không nói chuyện tự d ##ưng lại n ##h ##ắn tin và bảo nhớ mình dù không biết đây là đ ##ùa hay thật nhưng ch ##ắc mọi người cũng hiểu cái sức công phá của cái câu nhớ đó nó mạnh c ##ỡ nào đặc biệt là khi mình đã có cảm tình với người ta thì thật sự rất quan tâm lo l ##ắng cho nhau n ##hắc đi ng ##ủ sớm n ##hắc ăn cơ ##m đ ##ợi mình học bài x ##ong mới ng ##ủ chưa bao giờ có người nào khiến em cảm thấy vui và an tâm đến vậy nên tự d ##ưng mình thương người ta cũng phải th ##ôi gần tháng rồi em chưa nói chuyện với người đó em [SEP],[CLS] cf ##s hi cậu người t ##ớ rất thương c nói sao n ##h ##ỉ câu với t ##ớ có duy ##ên quen biết gặp g ##ỡ chơi chung nhưng ch ##ả có duy ##ên làm người thân hơn cả bạn thân t ##ớ nói cậu biết t ##ớ c ##rush cậu s ##ắp gần được một tháng rồi đó ngày ngày đi học nhìn thấy cậu tiếp xúc với biết bao bạn nữ khác mà bu ##ồn l ##ắm cậu vô tư quá cậu biết không nhiều khi rất muốn hỏi thẳng cậu ê mà ##y có thích tao không nhưng t ##ớ không dá ##m vì t ##ớ sợ t ##ớ mất luôn người bạn là cậu bởi vì chơi với cậu rất vui ở bên cậu t ##ớ luôn luôn cư ##ời c ##rush cậu m ##ệt l ##ắm nhưng mà không hiểu sao t ##ớ vẫn cứ thương cậu như thế thậm chí tình cảm này ngày một nhiều hơn rồi hi ##c hi ##c n ##ắng nt ##h đẹp nhưng g ##ắt l ##ắm cậu cũng như thế đẹp đến n ##h ##ói lòng t ##ớ rồi nếu b ##ây giờ t ##ớ tỏ tình cậu đồng ý không nhưng mà ch ##ắc t ##ớ không tỏ tình đ ##âu bởi vì biết cậu không thể đồng ý mà năm ở nt ##h của t ##ớ rất vui được gặp cậu cậu chỉ cần biết rằng bên cậu đang có một người thương cậu rất nhiều vậy n ##hé người t ##ớ thương [SEP],[CLS] s phòng cho thu ##ê mình hiện đang có vài phòng cho thu ##ê ở khu dân cư int ##res ##co phạm hùng nối dài thuận tiện cho các bạn học tập hoặc làm việc trên các địa bàn lân cận q r ##mit t ##đ ##t marketing q q đây là khu dân cư an nin ##h nơi ở có h ##ầm để xe rộng r ##ãi mi ##ễn phí nên các bạn hoàn toàn y ##ên tâm đảm bảo an toàn luôn ##n [UNK] bên cạnh đó phòng còn được xây theo dạng phòng khách s ##ạn nên có luôn than ##g máy cả nhà vệ sinh riêng thích hợp cho các bạn ư ##a s ##ạch sẽ ai có n ##hu cầu thì sm ##s hoặc call [SEP]\n",
       "y: FloatList\n",
       "[0.017352 0.005102 0.       0.       0.       0.      ],[0.01177  0.002551 0.       0.       0.       0.      ],[0.016624 0.005102 0.       0.00116  0.004    0.      ],[0.011285 0.015306 0.       0.00116  0.       0.      ],[0.000849 0.002551 0.       0.       0.       0.      ]\n",
       "Path: /content/gdrive/My Drive/projectlhp/data;\n",
       "\n",
       "Test: None"
      ]
     },
     "execution_count": 83,
     "metadata": {
      "tags": []
     },
     "output_type": "execute_result"
    }
   ],
   "source": [
    "from sklearn.model_selection import train_test_split\n",
    "label_cols = ['num_likes', 'num_loves', 'num_wows', 'num_hahas', 'num_sads', 'num_angrys']\n",
    "dir_file = os.getcwd() + \"/data/statuses_with_preprocess.csv\"\n",
    "confessions = pd.read_csv(dir_file)\n",
    "\n",
    "def buildDataBunch():\n",
    "\n",
    "  processor = [TokenizeProcessor(tokenizer = fastai_tokenizer, mark_fields=False, include_bos = False, include_eos=False),\n",
    "              NumericalizeProcessor(vocab = fastai_bert_vocab, min_freq = 2)]\n",
    "  train, val = train_test_split(confessions)\n",
    "  val_idx = val.index\n",
    "\n",
    "\n",
    "  databunch = (ItemLists(os.getcwd() + \"/data/\",\n",
    "                TextList.from_df(train, os.getcwd() + \"/data/\", cols=\"status_message\", processor = processor),\n",
    "                TextList.from_df(val, os.getcwd() + \"/data/\", cols=\"status_message\", processor = processor)\n",
    "                ).label_from_df(cols = label_cols, label_cls=FloatList)\n",
    "                .databunch(bs = config.bs, collate_fn=partial(pad_collate, pad_first=False, pad_idx=0)))\n",
    "  return databunch\n",
    "\n",
    "ClassificationDataBunch = buildDataBunch()\n",
    "ClassificationDataBunch"
   ]
  },
  {
   "cell_type": "code",
   "execution_count": null,
   "metadata": {
    "colab": {},
    "colab_type": "code",
    "id": "K-P7gVyk6eIM"
   },
   "outputs": [],
   "source": [
    "from pytorch_pretrained_bert.modeling import BertConfig, BertForSequenceClassification\n",
    "bert_model = BertForSequenceClassification.from_pretrained(config.bert_model_name, num_labels=len(label_cols))"
   ]
  },
  {
   "cell_type": "markdown",
   "metadata": {
    "colab_type": "text",
    "id": "T6IsA8Mb3I2h"
   },
   "source": [
    "# Fine-tune with BERT"
   ]
  },
  {
   "cell_type": "markdown",
   "metadata": {
    "colab_type": "text",
    "id": "-h1zhgfa28N7"
   },
   "source": [
    "I choose L1 Smooth because my data has a big variance between different reactions. Therefore, MSE will not work well with these kind of data"
   ]
  },
  {
   "cell_type": "markdown",
   "metadata": {
    "colab_type": "text",
    "id": "sz639QDm3Mag"
   },
   "source": [
    "## Smooth absolute error loss"
   ]
  },
  {
   "cell_type": "code",
   "execution_count": null,
   "metadata": {
    "colab": {},
    "colab_type": "code",
    "id": "qtOj-auCB0Bw"
   },
   "outputs": [],
   "source": [
    "# Intialize Fastai container with BERT model\n",
    "loss_func = torch.nn.SmoothL1Loss()\n",
    "learner_L1loss = Learner(ClassificationDataBunch, bert_model, loss_func = loss_func)"
   ]
  },
  {
   "cell_type": "code",
   "execution_count": 85,
   "metadata": {
    "colab": {
     "base_uri": "https://localhost:8080/",
     "height": 586
    },
    "colab_type": "code",
    "id": "CqJ_SuWrCDWl",
    "outputId": "83254ff0-4108-43dc-fddb-5d0314221789"
   },
   "outputs": [
    {
     "data": {
      "text/html": [],
      "text/plain": [
       "<IPython.core.display.HTML object>"
      ]
     },
     "metadata": {
      "tags": []
     },
     "output_type": "display_data"
    },
    {
     "name": "stdout",
     "output_type": "stream",
     "text": [
      "LR Finder is complete, type {learner_name}.recorder.plot() to see the graph.\n"
     ]
    },
    {
     "data": {
      "image/png": "[encoded data removed]",
      "text/plain": [
       "<Figure size 432x288 with 1 Axes>"
      ]
     },
     "metadata": {
      "tags": []
     },
     "output_type": "display_data"
    },
    {
     "data": {
      "image/png": "[encoded data removed]",
      "text/plain": [
       "<Figure size 864x288 with 2 Axes>"
      ]
     },
     "metadata": {
      "tags": []
     },
     "output_type": "display_data"
    }
   ],
   "source": [
    "# Run the learning finder test\n",
    "learner_L1loss.lr_find()\n",
    "learner_L1loss.recorder.plot()\n",
    "learner_L1loss.recorder.plot_lr(show_moms=True)"
   ]
  },
  {
   "cell_type": "code",
   "execution_count": 86,
   "metadata": {
    "colab": {
     "base_uri": "https://localhost:8080/",
     "height": 111
    },
    "colab_type": "code",
    "id": "6soiAyV2CJ8o",
    "outputId": "bc1ebb1f-33c5-48a1-aa59-ef9e2516a5cf"
   },
   "outputs": [
    {
     "data": {
      "text/html": [
       "<table border=\"1\" class=\"dataframe\">\n",
       "  <thead>\n",
       "    <tr style=\"text-align: left;\">\n",
       "      <th>epoch</th>\n",
       "      <th>train_loss</th>\n",
       "      <th>valid_loss</th>\n",
       "      <th>time</th>\n",
       "    </tr>\n",
       "  </thead>\n",
       "  <tbody>\n",
       "    <tr>\n",
       "      <td>0</td>\n",
       "      <td>0.002231</td>\n",
       "      <td>0.000461</td>\n",
       "      <td>01:24</td>\n",
       "    </tr>\n",
       "    <tr>\n",
       "      <td>1</td>\n",
       "      <td>0.001146</td>\n",
       "      <td>0.000398</td>\n",
       "      <td>01:20</td>\n",
       "    </tr>\n",
       "  </tbody>\n",
       "</table>"
      ],
      "text/plain": [
       "<IPython.core.display.HTML object>"
      ]
     },
     "metadata": {
      "tags": []
     },
     "output_type": "display_data"
    }
   ],
   "source": [
    "# Fine-tune the last layer first\n",
    "config.max_lr = 1e-04\n",
    "learner_L1loss.fit_one_cycle(config.freeze_epochs, max_lr = config.max_lr, moms=0.8)"
   ]
  },
  {
   "cell_type": "code",
   "execution_count": 87,
   "metadata": {
    "colab": {
     "base_uri": "https://localhost:8080/",
     "height": 34
    },
    "colab_type": "code",
    "id": "oDrO8OKPD8R9",
    "outputId": "913be14a-d612-4899-b951-43cd132939c1"
   },
   "outputs": [
    {
     "data": {
      "text/plain": [
       "PosixPath('/content/gdrive/My Drive/projectlhp/data/models/L1loss_fit_head.pth')"
      ]
     },
     "execution_count": 87,
     "metadata": {
      "tags": []
     },
     "output_type": "execute_result"
    }
   ],
   "source": [
    "learner_L1loss.save(\"L1loss_fit_head\", return_path = True)"
   ]
  },
  {
   "cell_type": "code",
   "execution_count": 88,
   "metadata": {
    "colab": {
     "base_uri": "https://localhost:8080/",
     "height": 34
    },
    "colab_type": "code",
    "id": "hlpnXeyNQtZy",
    "outputId": "e83f6b3d-3855-4ee2-ebf8-e10ac33c3cc7"
   },
   "outputs": [
    {
     "data": {
      "text/plain": [
       "PosixPath('/content/gdrive/My Drive/projectlhp/data')"
      ]
     },
     "execution_count": 88,
     "metadata": {
      "tags": []
     },
     "output_type": "execute_result"
    }
   ],
   "source": [
    "learner_L1loss.export(\"models/L1loss_fit_head.pkl\")\n",
    "path = learner_L1loss.path\n",
    "path"
   ]
  },
  {
   "cell_type": "code",
   "execution_count": 89,
   "metadata": {
    "colab": {
     "base_uri": "https://localhost:8080/",
     "height": 80
    },
    "colab_type": "code",
    "id": "mZNSJ2fROpl-",
    "outputId": "1959db68-a430-4f75-d9ce-027d37c62dae"
   },
   "outputs": [
    {
     "data": {
      "text/html": [
       "<table border=\"1\" class=\"dataframe\">\n",
       "  <thead>\n",
       "    <tr style=\"text-align: left;\">\n",
       "      <th>epoch</th>\n",
       "      <th>train_loss</th>\n",
       "      <th>valid_loss</th>\n",
       "      <th>time</th>\n",
       "    </tr>\n",
       "  </thead>\n",
       "  <tbody>\n",
       "    <tr>\n",
       "      <td>0</td>\n",
       "      <td>0.000959</td>\n",
       "      <td>0.000412</td>\n",
       "      <td>01:17</td>\n",
       "    </tr>\n",
       "  </tbody>\n",
       "</table>"
      ],
      "text/plain": [
       "<IPython.core.display.HTML object>"
      ]
     },
     "metadata": {
      "tags": []
     },
     "output_type": "display_data"
    }
   ],
   "source": [
    "# Fine-tune the last two layer\n",
    "learner_L1loss.freeze_to(-2)\n",
    "learner_L1loss.fit_one_cycle(1, max_lr = config.max_lr / 2)"
   ]
  },
  {
   "cell_type": "code",
   "execution_count": 90,
   "metadata": {
    "colab": {
     "base_uri": "https://localhost:8080/",
     "height": 54
    },
    "colab_type": "code",
    "id": "aVD0fAL1Y5n-",
    "outputId": "126a7228-74db-4b41-99a7-b1a114ecd759"
   },
   "outputs": [
    {
     "data": {
      "text/plain": [
       "PosixPath('/content/gdrive/My Drive/projectlhp/data/models/L1Loss_second_head.pth')"
      ]
     },
     "execution_count": 90,
     "metadata": {
      "tags": []
     },
     "output_type": "execute_result"
    }
   ],
   "source": [
    "learner_L1loss.save(\"L1Loss_second_head\", return_path = True)"
   ]
  },
  {
   "cell_type": "code",
   "execution_count": 91,
   "metadata": {
    "colab": {
     "base_uri": "https://localhost:8080/",
     "height": 34
    },
    "colab_type": "code",
    "id": "Uj_vu024UcIU",
    "outputId": "816a6b60-cd53-44fc-befa-194c544731aa"
   },
   "outputs": [
    {
     "data": {
      "text/plain": [
       "PosixPath('/content/gdrive/My Drive/projectlhp/data')"
      ]
     },
     "execution_count": 91,
     "metadata": {
      "tags": []
     },
     "output_type": "execute_result"
    }
   ],
   "source": [
    "learner_L1loss.export(\"models/L1Loss_second_head.pkl\")\n",
    "path = learner_L1loss.path\n",
    "path"
   ]
  },
  {
   "cell_type": "code",
   "execution_count": 92,
   "metadata": {
    "colab": {
     "base_uri": "https://localhost:8080/",
     "height": 173
    },
    "colab_type": "code",
    "id": "mByjndLnQBzW",
    "outputId": "9f8e0847-4bf2-438d-9d6c-5b915c1411f6"
   },
   "outputs": [
    {
     "data": {
      "text/html": [
       "<table border=\"1\" class=\"dataframe\">\n",
       "  <thead>\n",
       "    <tr style=\"text-align: left;\">\n",
       "      <th>epoch</th>\n",
       "      <th>train_loss</th>\n",
       "      <th>valid_loss</th>\n",
       "      <th>time</th>\n",
       "    </tr>\n",
       "  </thead>\n",
       "  <tbody>\n",
       "    <tr>\n",
       "      <td>0</td>\n",
       "      <td>0.001000</td>\n",
       "      <td>0.000757</td>\n",
       "      <td>01:18</td>\n",
       "    </tr>\n",
       "    <tr>\n",
       "      <td>1</td>\n",
       "      <td>0.000840</td>\n",
       "      <td>0.000452</td>\n",
       "      <td>01:08</td>\n",
       "    </tr>\n",
       "    <tr>\n",
       "      <td>2</td>\n",
       "      <td>0.000886</td>\n",
       "      <td>0.000409</td>\n",
       "      <td>01:21</td>\n",
       "    </tr>\n",
       "    <tr>\n",
       "      <td>3</td>\n",
       "      <td>0.000745</td>\n",
       "      <td>0.000398</td>\n",
       "      <td>01:12</td>\n",
       "    </tr>\n",
       "  </tbody>\n",
       "</table>"
      ],
      "text/plain": [
       "<IPython.core.display.HTML object>"
      ]
     },
     "metadata": {
      "tags": []
     },
     "output_type": "display_data"
    }
   ],
   "source": [
    "# Fine-tune the whole model\n",
    "learner_L1loss.unfreeze()\n",
    "learner_L1loss.fit_one_cycle(config.unfreeze_epochs, max_lr = config.max_lr)"
   ]
  },
  {
   "cell_type": "code",
   "execution_count": 93,
   "metadata": {
    "colab": {
     "base_uri": "https://localhost:8080/",
     "height": 54
    },
    "colab_type": "code",
    "id": "j-_8p4SaQPRH",
    "outputId": "69a12784-f1eb-4ecb-cc29-dfaa983e8f9f"
   },
   "outputs": [
    {
     "data": {
      "text/plain": [
       "PosixPath('/content/gdrive/My Drive/projectlhp/data/models/L1Loss_final_model.pth')"
      ]
     },
     "execution_count": 93,
     "metadata": {
      "tags": []
     },
     "output_type": "execute_result"
    }
   ],
   "source": [
    "learner_L1loss.save(\"L1Loss_final_model\", return_path = True)"
   ]
  },
  {
   "cell_type": "code",
   "execution_count": 94,
   "metadata": {
    "colab": {
     "base_uri": "https://localhost:8080/",
     "height": 34
    },
    "colab_type": "code",
    "id": "tQkM6mpgUll3",
    "outputId": "794bdaf3-6d97-4864-e0c6-69ef43995e29"
   },
   "outputs": [
    {
     "data": {
      "text/plain": [
       "PosixPath('/content/gdrive/My Drive/projectlhp/data')"
      ]
     },
     "execution_count": 94,
     "metadata": {
      "tags": []
     },
     "output_type": "execute_result"
    }
   ],
   "source": [
    "learner_L1loss.export(\"models/L1Loss_final_model.pkl\")\n",
    "path = learner_L1loss.path\n",
    "path"
   ]
  },
  {
   "cell_type": "code",
   "execution_count": 95,
   "metadata": {
    "colab": {
     "base_uri": "https://localhost:8080/",
     "height": 283
    },
    "colab_type": "code",
    "id": "XwTeZNaRjccF",
    "outputId": "627d3338-da8b-4451-945e-777fbe3b5d0f"
   },
   "outputs": [
    {
     "data": {
      "image/png": "[encoded data removed]",
      "text/plain": [
       "<Figure size 432x288 with 1 Axes>"
      ]
     },
     "metadata": {
      "tags": []
     },
     "output_type": "display_data"
    }
   ],
   "source": [
    "learner_L1loss.recorder.plot_losses()"
   ]
  },
  {
   "cell_type": "code",
   "execution_count": 96,
   "metadata": {
    "colab": {
     "base_uri": "https://localhost:8080/",
     "height": 569
    },
    "colab_type": "code",
    "id": "EgIUkwy9UrCV",
    "outputId": "0daff736-5e97-42be-8479-2396f45c1a1f"
   },
   "outputs": [
    {
     "data": {
      "image/png": "[encoded data removed]",
      "text/plain": [
       "<Figure size 432x288 with 1 Axes>"
      ]
     },
     "metadata": {
      "tags": []
     },
     "output_type": "display_data"
    },
    {
     "data": {
      "image/png": "[encoded data removed]",
      "text/plain": [
       "<Figure size 864x288 with 2 Axes>"
      ]
     },
     "metadata": {
      "tags": []
     },
     "output_type": "display_data"
    }
   ],
   "source": [
    "learner_L1loss.recorder.plot()\n",
    "learner_L1loss.recorder.plot_lr(show_moms=True)"
   ]
  },
  {
   "cell_type": "markdown",
   "metadata": {
    "colab_type": "text",
    "id": "edjtTSM3d7da"
   },
   "source": [
    "## Feedforward Neural Netword with BERT Emebedding"
   ]
  },
  {
   "cell_type": "markdown",
   "metadata": {
    "colab_type": "text",
    "id": "yZfL6VF43STl"
   },
   "source": [
    "I observed that fine-tune like I did above takes long time for the model the converge and the generalization is not as good as I expect. Instead of fine-tuning the whole model of BERT, I can extract the feature of token [CLS] of each sentence in the last layer for classification purpose"
   ]
  },
  {
   "cell_type": "markdown",
   "metadata": {
    "colab_type": "text",
    "id": "z7TjHk9fm4JL"
   },
   "source": [
    "## Necessary library"
   ]
  },
  {
   "cell_type": "code",
   "execution_count": null,
   "metadata": {
    "colab": {},
    "colab_type": "code",
    "id": "o9_6T0Q_eAMN"
   },
   "outputs": [],
   "source": [
    "# Import necessary packages\n",
    "import torch\n",
    "from torch.autograd import Variable\n",
    "import torch.nn.functional as F\n",
    "import torch.utils.data as utils\n",
    "\n",
    "import plotly.graph_objects as go\n",
    "\n",
    "import math\n",
    "import copy\n",
    "from livelossplot import PlotLosses\n",
    "import matplotlib.pyplot as plt\n",
    "import matplotlib"
   ]
  },
  {
   "cell_type": "markdown",
   "metadata": {
    "colab_type": "text",
    "id": "j77dDYkNm9WZ"
   },
   "source": [
    "## Extract features from BERT"
   ]
  },
  {
   "cell_type": "code",
   "execution_count": 67,
   "metadata": {
    "colab": {
     "base_uri": "https://localhost:8080/",
     "height": 119
    },
    "colab_type": "code",
    "id": "mEOF9Mi-1g68",
    "outputId": "ee245004-1a70-4c45-adba-a16b50ea9809"
   },
   "outputs": [
    {
     "name": "stderr",
     "output_type": "stream",
     "text": [
      "  0%|          | 0/91 [00:00<?, ?it/s]"
     ]
    },
    {
     "name": "stdout",
     "output_type": "stream",
     "text": [
      "\n",
      ">> Extract features for train set\n"
     ]
    },
    {
     "name": "stderr",
     "output_type": "stream",
     "text": [
      "100%|██████████| 91/91 [00:59<00:00,  1.33it/s]\n",
      "  0%|          | 0/31 [00:00<?, ?it/s]"
     ]
    },
    {
     "name": "stdout",
     "output_type": "stream",
     "text": [
      "\n",
      ">> Extract features for valid set\n"
     ]
    },
    {
     "name": "stderr",
     "output_type": "stream",
     "text": [
      "100%|██████████| 31/31 [00:19<00:00,  3.11it/s]\n"
     ]
    }
   ],
   "source": [
    "# Adjust batch size\n",
    "config.bs = 16\n",
    "ClassificationDataBunch = buildDataBunch()\n",
    "loss_func = torch.nn.SmoothL1Loss()\n",
    "learner_L1loss = Learner(ClassificationDataBunch, bert_model, loss_func = loss_func)\n",
    "\n",
    "# Extract the last layers of BERT\n",
    "embedding_size, label_size = 768, 6\n",
    "trainSet, validSet = None, None\n",
    "dataLoader, validLoader = None, None\n",
    "# for phase in [\"valid\", \"train\"]:\n",
    "for phase in [\"train\", \"valid\"]:\n",
    "  features, labels = [], []\n",
    "  print(\"\\n>> Extract features for %s set\" % phase)\n",
    "  dataset = learner_L1loss.data.train_dl\n",
    "  numParagraph = 0\n",
    "  if phase == \"valid\": dataset = learner_L1loss.data.valid_dl\n",
    "  for index, batches in tqdm(enumerate(dataset), total = len(dataset)):\n",
    "    X, y = [], []\n",
    "    numParagraph += min(config.bs, batches[0].shape[0])\n",
    "    for i in range(min(config.bs, batches[0].shape[0])):\n",
    "      paragraphToken = batches[0][i]\n",
    "      embedding_features = learner_L1loss.model.bert(paragraphToken.unsqueeze(0))[-1]\n",
    "      output = batches[1][i]\n",
    "      X.append(embedding_features.cpu())\n",
    "      y.append(output.cpu())\n",
    "      del embedding_features\n",
    "      del output\n",
    "      torch.cuda.empty_cache()\n",
    "\n",
    "    ## Why this does not cause the overload memory\n",
    "    X, y = torch.stack(X), torch.stack(y)\n",
    "    X, y = Variable(X).cuda(), Variable(y).cuda()\n",
    "    features.append(X)\n",
    "    labels.append(y)\n",
    "\n",
    "  torch.cuda.empty_cache()\n",
    "  features, labels = torch.cat(features), torch.cat(labels)\n",
    "  features, labels = features.resize_(numParagraph, embedding_size), labels.resize_(numParagraph, label_size)\n",
    "  if phase == \"train\":\n",
    "    trainSet = utils.TensorDataset(features.cpu(), labels.cpu())\n",
    "    trainLoader = utils.DataLoader(trainSet, batch_size=config.bs, shuffle=True, num_workers=4)\n",
    "  else:\n",
    "    validSet = utils.TensorDataset(features.cpu(), labels.cpu())\n",
    "    validLoader = utils.DataLoader(validSet, batch_size=config.bs, shuffle=True, num_workers=4)"
   ]
  },
  {
   "cell_type": "code",
   "execution_count": 68,
   "metadata": {
    "colab": {
     "base_uri": "https://localhost:8080/",
     "height": 34
    },
    "colab_type": "code",
    "id": "ZG42xuPDxiSG",
    "outputId": "ae055e43-ce7f-443f-bf74-e9cacc4d556e"
   },
   "outputs": [
    {
     "name": "stdout",
     "output_type": "stream",
     "text": [
      "1456\n"
     ]
    }
   ],
   "source": [
    "print(len(trainSet))"
   ]
  },
  {
   "cell_type": "code",
   "execution_count": 69,
   "metadata": {
    "colab": {
     "base_uri": "https://localhost:8080/",
     "height": 34
    },
    "colab_type": "code",
    "id": "XoEp8xYyZ99Q",
    "outputId": "765f3774-7fc2-45b9-b6e1-04faa79b7bbc"
   },
   "outputs": [
    {
     "data": {
      "text/plain": [
       "91"
      ]
     },
     "execution_count": 69,
     "metadata": {
      "tags": []
     },
     "output_type": "execute_result"
    }
   ],
   "source": [
    "len(trainLoader)"
   ]
  },
  {
   "cell_type": "markdown",
   "metadata": {
    "colab_type": "text",
    "id": "XbtEWmLenCDs"
   },
   "source": [
    "## Configuration of NN"
   ]
  },
  {
   "cell_type": "code",
   "execution_count": null,
   "metadata": {
    "colab": {},
    "colab_type": "code",
    "id": "Twy7dBInAJ2i"
   },
   "outputs": [],
   "source": [
    "### Define the model\n",
    "layer_features = [200, 100, 80]\n",
    "embedding_size = 768\n",
    "\n",
    "class FeedForwardNeuralNetwork(nn.Module):\n",
    "  def __init__(self, layer_features: list, embedding_size: int, dropout_rate = 0.2):\n",
    "    super(FeedForwardNeuralNetwork, self).__init__()\n",
    "    self.fc1 = torch.nn.Linear(embedding_size, layer_features[0])\n",
    "    self.fc2 = torch.nn.Linear(layer_features[0], layer_features[1])\n",
    "    self.fc3 = torch.nn.Linear(layer_features[1], layer_features[2])\n",
    "    self.fc4 = torch.nn.Linear(layer_features[2], label_size)\n",
    "    self.activation = torch.nn.ReLU()\n",
    "    self.lastLayer = torch.nn.Sigmoid()\n",
    "    self.dropout = torch.nn.Dropout(dropout_rate)\n",
    "  \n",
    "  def forward(self, X: torch.autograd.Variable) -> torch.autograd.Variable:\n",
    "    # out1 = self.dropout(self.activation(self.fc1(X)))\n",
    "    # out2 = self.dropout(self.activation(self.fc2(out1)))\n",
    "    out1 = self.activation(self.fc1(X))\n",
    "    out2 = self.activation(self.fc2(out1))\n",
    "    out3 = self.activation(self.fc3(out2))\n",
    "    output = self.lastLayer(self.fc4(out3))\n",
    "    return output\n",
    "\n",
    "feedForwardNet = FeedForwardNeuralNetwork(layer_features, embedding_size)\n",
    "feedForwardNet.cuda()\n",
    "\n",
    "# Try different loss\n",
    "loss_func = torch.nn.L1Loss()\n",
    "\n",
    "epoches = 200\n",
    "copyNet = copy.deepcopy(feedForwardNet)"
   ]
  },
  {
   "cell_type": "markdown",
   "metadata": {
    "colab_type": "text",
    "id": "vIrGBkKonHGU"
   },
   "source": [
    "## Learning finder"
   ]
  },
  {
   "cell_type": "markdown",
   "metadata": {
    "colab_type": "text",
    "id": "tlco_l6i4Ewo"
   },
   "source": [
    "I used learning finder of Smith and the smooth curve method from fastai in order to plot this graph"
   ]
  },
  {
   "cell_type": "code",
   "execution_count": 71,
   "metadata": {
    "colab": {
     "base_uri": "https://localhost:8080/",
     "height": 300
    },
    "colab_type": "code",
    "id": "BqKunRuanJZy",
    "outputId": "fc41c405-df59-4c08-deb5-98563751905e"
   },
   "outputs": [
    {
     "name": "stdout",
     "output_type": "stream",
     "text": [
      "91\n"
     ]
    },
    {
     "data": {
      "image/png": "[encoded data removed]",
      "text/plain": [
       "<Figure size 432x288 with 1 Axes>"
      ]
     },
     "metadata": {
      "tags": []
     },
     "output_type": "display_data"
    }
   ],
   "source": [
    "# Make a copy of the weight\n",
    "feedForwardNet = copy.deepcopy(copyNet)\n",
    "\n",
    "beta = 0.98\n",
    "min_lr, max_lr = 1e-8, 1.\n",
    "lr = min_lr\n",
    "numTimes = len(trainLoader) - 1\n",
    "constJump = (max_lr / min_lr) ** (1 / numTimes)\n",
    "losses = []\n",
    "log_lrs = []\n",
    "avg_loss, best_loss, batch_num = 0., 0., 0.\n",
    "optimizer = torch.optim.SGD(feedForwardNet.parameters(), lr = min_lr)\n",
    "\n",
    "for data in trainLoader:\n",
    "  batch_num += 1\n",
    "  inputs, labels = data\n",
    "  inputs, labels = Variable(inputs).to(device), Variable(labels).to(device)\n",
    "  optimizer.zero_grad()\n",
    "  predictions = feedForwardNet(inputs)\n",
    "  loss = loss_func(predictions, labels)\n",
    "\n",
    "  ## Smooth the curve\n",
    "  avg_loss = beta * avg_loss + (1 - beta) * loss.cpu().item()\n",
    "  smooth_loss = avg_loss / (1 - beta ** batch_num)\n",
    "  if batch_num > 1 and smooth_loss > 4 * best_loss: break\n",
    "  if smooth_loss < best_loss or batch_num == 1: best_loss = smooth_loss\n",
    "\n",
    "  losses.append(smooth_loss)\n",
    "  log_lrs.append(math.log10(lr))\n",
    "\n",
    "  loss.backward()\n",
    "  optimizer.step()\n",
    "  \n",
    "  lr *= constJump\n",
    "  optimizer.param_groups[0]['lr'] = lr\n",
    "\n",
    "print(len(log_lrs))\n",
    "plt.plot(log_lrs[10:-5], losses[10:-5])\n",
    "plt.xlabel(\"learning rate\")\n",
    "plt.ylabel(\"losses\")\n",
    "plt.show()"
   ]
  },
  {
   "cell_type": "markdown",
   "metadata": {
    "colab_type": "text",
    "id": "6jwNXcN_nFDB"
   },
   "source": [
    "## Training process with dropout + early stop\n"
   ]
  },
  {
   "cell_type": "code",
   "execution_count": 100,
   "metadata": {
    "colab": {
     "base_uri": "https://localhost:8080/",
     "height": 377
    },
    "colab_type": "code",
    "id": "HqolZ1eZkQlg",
    "outputId": "d110d095-f69a-44e8-b7f0-2338ad74f42f"
   },
   "outputs": [
    {
     "data": {
      "image/png": "[encoded data removed]",
      "text/plain": [
       "<Figure size 864x576 with 1 Axes>"
      ]
     },
     "metadata": {
      "tags": []
     },
     "output_type": "display_data"
    },
    {
     "name": "stdout",
     "output_type": "stream",
     "text": [
      "Dropout + Early Stop:\n",
      "training   (min:    0.001, max:    0.123, cur:    0.001)\n",
      "validation (min:    0.000, max:    0.121, cur:    0.000)\n"
     ]
    }
   ],
   "source": [
    "is_loaded = False\n",
    "torch.manual_seed(1)    # reproducible\n",
    "\n",
    "train_error, valid_error = [], []\n",
    "stopped = False\n",
    "# Plot real-time plot\n",
    "liveloss = PlotLosses()\n",
    "\n",
    "# Load the network\n",
    "feedForwardNet = copy.deepcopy(copyNet)\n",
    "optimizer = torch.optim.SGD(feedForwardNet.parameters(), lr=1e-2)\n",
    "\n",
    "for step in range(epoches):\n",
    "  logs = {}\n",
    "  losses = {\"train\": 0., \"valid\": 0.}\n",
    "  dataLoader = None\n",
    "  for phase in [\"train\", \"valid\"]:\n",
    "    if phase == \"train\": \n",
    "      feedForwardNet.train()\n",
    "      dataLoader = trainLoader\n",
    "    else:\n",
    "      feedForwardNet.eval()\n",
    "      dataLoader = validLoader\n",
    "\n",
    "    for data in dataLoader:\n",
    "      inputs, labels = data\n",
    "      inputs, labels = Variable(inputs).to(device), Variable(labels).to(device)\n",
    "      optimizer.zero_grad()\n",
    "      predictions = feedForwardNet(inputs)\n",
    "      loss = loss_func(predictions, labels)\n",
    "      losses[phase] += loss\n",
    "      loss.backward()\n",
    "      optimizer.step()\n",
    "      \n",
    "    if phase != \"valid\": \n",
    "      train_error.append(losses[\"train\"] / len(trainLoader))\n",
    "      logs[\"Dropout + Early Stop\"] = losses[\"train\"] / len(trainLoader)\n",
    "    else: \n",
    "      valid_error.append(losses[\"valid\"] / len(validLoader))\n",
    "      logs[\"val_\" + \"Dropout + Early Stop\"] = losses[\"valid\"] / len(validLoader)\n",
    "      break\n",
    "    # Adding early stop\n",
    "    if step > 5 and phase == \"valid\":\n",
    "      # If last 5 steps the validation error increases then stop\n",
    "      smaller = False\n",
    "      for i in range(step, step - 4, -1):\n",
    "        if valid_error[i] < valid_error[i + 1]: \n",
    "          smaller = True\n",
    "          break\n",
    "      if smaller: \n",
    "        stopped = True\n",
    "        break\n",
    "  if stopped: \n",
    "    print(\">> Early stop at step %d\" % step)\n",
    "    break\n",
    "  liveloss.update(logs)\n",
    "  liveloss.draw()"
   ]
  },
  {
   "cell_type": "code",
   "execution_count": null,
   "metadata": {
    "colab": {},
    "colab_type": "code",
    "id": "z7FCAfTgF1az"
   },
   "outputs": [],
   "source": [
    "feedForwardNet.eval()\n",
    "save_dir = os.getcwd() + \"/data/models/drop_early.path\"\n",
    "torch.save(feedForwardNet.state_dict(), save_dir)"
   ]
  },
  {
   "cell_type": "markdown",
   "metadata": {
    "colab_type": "text",
    "id": "F1od-7-srYqo"
   },
   "source": [
    "## Training with cycle learning rate and dropout"
   ]
  },
  {
   "cell_type": "code",
   "execution_count": null,
   "metadata": {
    "colab": {
     "base_uri": "https://localhost:8080/",
     "height": 300
    },
    "colab_type": "code",
    "id": "IxV0OKawrWPd",
    "outputId": "90b426ad-b874-4c78-cfe8-757882593fa7"
   },
   "outputs": [
    {
     "name": "stderr",
     "output_type": "stream",
     "text": [
      "100%|██████████| 32/32 [00:41<00:00,  1.32s/it]\n"
     ]
    },
    {
     "data": {
      "image/png": "[encoded data removed]",
      "text/plain": [
       "<Figure size 432x288 with 1 Axes>"
      ]
     },
     "metadata": {
      "tags": []
     },
     "output_type": "display_data"
    }
   ],
   "source": [
    "from IPython.display import clear_output\n",
    "\n",
    "feedForwardNet = copy.deepcopy(copyNet)\n",
    "\n",
    "num_cycle = 8\n",
    "epoch = len(trainLoader) # epoch = numOfData / batch_size\n",
    "stepSize = 2 * epoch # Half of the cycle\n",
    "# Total iteration = stepSize * 2 * num_cycle \n",
    "#       => we only need to go through num_cycle * 4 times of the trainLoader in \n",
    "#          order get the total interations\n",
    "\n",
    "# Set up learning rate\n",
    "base_lr, max_lr = 3e-1, 9e-1\n",
    "optimizer = torch.optim.SGD(feedForwardNet.parameters(), lr = base_lr, momentum = 0.85)\n",
    "trainLoss, validLoss, epoch_plot = [], [], []\n",
    "lr_plot, iter_plot = [], []\n",
    "epochCounter = 0\n",
    "\n",
    "for iteration in tqdm(range(num_cycle * 4)):\n",
    "  for batch, data in enumerate(trainLoader):\n",
    "    inputs, labels = data\n",
    "    inputs, labels = Variable(inputs).to(device), Variable(labels).to(device)    \n",
    "\n",
    "    predictions = feedForwardNet(inputs)\n",
    "    loss = loss_func(predictions, labels)\n",
    "    optimizer.zero_grad()\n",
    "    loss.backward()\n",
    "    optimizer.step()\n",
    "\n",
    "    epochCounter = iteration * epoch + batch\n",
    "    cycle = math.floor(1 + epochCounter / (2 * stepSize))\n",
    "    x = abs(epochCounter / stepSize - 2 * cycle + 1)\n",
    "    lr = base_lr + (max_lr - base_lr) * max(0, (1 - x))\n",
    "    optimizer = torch.optim.SGD(feedForwardNet.parameters(), lr = lr, momentum = 0.85)\n",
    "\n",
    "  trainLoss.append(evalModel(feedForwardNet, trainLoader))\n",
    "  validLoss.append(evalModel(feedForwardNet, validLoader))\n",
    "  epoch_plot.append(iteration)\n",
    "\n",
    "plt.plot(epoch_plot, trainLoss, \"blue\")\n",
    "plt.plot(epoch_plot, validLoss, \"orange\")\n",
    "plt.legend((\"train\", \"valid\"), loc='upper right')\n",
    "plt.xlabel(\"Iterations\")\n",
    "plt.ylabel(\"epoches\")\n",
    "plt.show()"
   ]
  },
  {
   "cell_type": "code",
   "execution_count": null,
   "metadata": {
    "colab": {},
    "colab_type": "code",
    "id": "O70fGAFzHwG5"
   },
   "outputs": [],
   "source": [
    "# Run the validation set\n",
    "def evalModel(model: FeedForwardNeuralNetwork, validLoader: dataLoader) -> float:\n",
    "  model.eval()\n",
    "  validLoss = 0\n",
    "  for data in validLoader:\n",
    "    inputs, labels = data\n",
    "    inputs, labels = inputs.to(device), labels.to(device)\n",
    "    predictions = model(inputs)\n",
    "    loss = loss_func(predictions, labels)\n",
    "    validLoss += loss.item()\n",
    "  return validLoss / len(validLoader)"
   ]
  },
  {
   "cell_type": "code",
   "execution_count": null,
   "metadata": {
    "colab": {},
    "colab_type": "code",
    "id": "4nyVBaObUhWT"
   },
   "outputs": [],
   "source": [
    "feedForwardNet.eval()\n",
    "save_dir = os.getcwd() + \"/data/models/cycle_learning.path\"\n",
    "torch.save(feedForwardNet.state_dict(), save_dir)"
   ]
  },
  {
   "cell_type": "markdown",
   "metadata": {
    "colab_type": "text",
    "id": "o_LzziMd4UPA"
   },
   "source": [
    "# Evaluate the model"
   ]
  },
  {
   "cell_type": "code",
   "execution_count": null,
   "metadata": {
    "colab": {},
    "colab_type": "code",
    "id": "7Rq4EXYWc1mg"
   },
   "outputs": [],
   "source": [
    "# Fastai with BERT model\n",
    "ClassificationDataBunch = buildDataBunch()\n",
    "loss_func = torch.nn.SmoothL1Loss()\n",
    "fastai_bert = Learner(ClassificationDataBunch, bert_model, loss_func = loss_func)\n",
    "fastai_bert = fastai_bert.load(\"/content/gdrive/My Drive/projectlhp/data/models/L1Loss_final_model\")"
   ]
  },
  {
   "cell_type": "code",
   "execution_count": 120,
   "metadata": {
    "colab": {
     "base_uri": "https://localhost:8080/",
     "height": 411
    },
    "colab_type": "code",
    "id": "ffrzdyPBT6Mf",
    "outputId": "0ee3f3ac-b882-403d-9464-0d6ec4fa12ca"
   },
   "outputs": [
    {
     "name": "stdout",
     "output_type": "stream",
     "text": [
      "[unused1] [unused1] [unused1] [unused1] [unused1] [unused1] [unused1] [unused1] [unused1] [unused1] [unused1] [unused1] [unused1] [unused1] [CLS] hoạt động ý nghĩa cho ngày hè thêm vui bạn yêu chó m ##èo bạn thích trẻ con bạn mon ##g muốn có một mùa hè ý nghĩa được tham gia những hoạt động xã hội để có thêm kinh nghiệm và giúp í ##ch cho cộng đồng bạn nghĩ sao nếu có một mộ ##i trường cho phép bạn chơi đ ##ùa th ##o ##ải má ##i với các em nhỏ các bé chó m ##èo và cùng nhau th ##ỏa sức sáng tạo trong một môi trường thân thiện gần g ##ũ ##i và an toàn the seeds project là một dự án vừa được thành lập với mon ##g muốn đem đến cho các em nhỏ các bạn trẻ những kiến thức về ph ##úc lợi động vật hiện tại dự án đang cần tuyển b ##t ##c ở các ban truyền thông ph ##úc lợi hậu cần và thiết kế bên cạnh ni ##ềm vui khi được làm điều mình thích khi tham gia the seeds project bạn sẽ có thêm nhiều cơ hội để r ##èn luyện các k ##ĩ năng làm việc nhóm quản lý cũng như phát triển những khả năng nhất định trong phân ban mà bạn chọn đ ##ấy link đơn tuyển https ##do ##cs ##go ##og ##lec ##om ##form ##sd ##pe ##fr ##w ##b ##f ##ht ##cq ##oc ##z ##pm ##ms ##ox ##v ##f ##z ##pid ##n ##r ##hy ##ok ##mt ##q ##ot ##lv ##ie ##w ##form ##c ##w rất mon ##g sẽ được gặp mặt và đồng hành với các bạn trong thời gian s ##ắp tới [SEP] \n",
      "\n",
      "The ground truth of the confession\n",
      "[0.008 0.008 0.000 0.000 0.000 0.000] \n",
      "\n",
      "\n",
      "The prediction of fastai_bert\n",
      "[0.028 0.027 0.006 0.005 0.001 0.006] 7.699478010181338e-05 \n",
      "\n",
      "\n",
      "The prediction of dropout + early stop\n",
      "[0.270 0.261 0.238 0.246 0.236 0.251] 0.0307622030377388 \n",
      "\n",
      "\n",
      "The prediction of cycle learning + dropout\n",
      "[0.191 0.202 0.071 0.095 0.065 0.066] 0.007828491739928722 \n",
      "\n",
      "\n"
     ]
    },
    {
     "name": "stderr",
     "output_type": "stream",
     "text": [
      "/usr/local/lib/python3.6/dist-packages/torch/nn/modules/loss.py:804: UserWarning:\n",
      "\n",
      "Using a target size (torch.Size([1, 6])) that is different to the input size (torch.Size([6])). This will likely lead to incorrect results due to broadcasting. Please ensure they have the same size.\n",
      "\n"
     ]
    }
   ],
   "source": [
    "# Evaluate all three model\n",
    "\n",
    "# Get a paragraph from the dataset\n",
    "dataset = fastai_bert.data.valid_dl\n",
    "batch = np.random.randint(len(dataset), size=1)[0]\n",
    "paragraph, fastai_bert_pred, embedding_features, ground_truth = \"\", None, None, None\n",
    "for index, batches in enumerate(dataset):\n",
    "  if index == batch:\n",
    "    idx = np.random.randint(batches[0].shape[0], size=1)[0]\n",
    "    ground_truth = batches[1][idx]\n",
    "    fastai_bert_pred = fastai_bert.model(batches[0][idx].unsqueeze(0))\n",
    "    inputId = batches[0][idx].cpu()\n",
    "    paragraph = \" \".join(fastai_bert.data.train_dl.vocab.textify(inputId).split(' '))\n",
    "    embedding_features = fastai_bert.model.bert(inputId.unsqueeze(0).to(device))[-1]\n",
    "\n",
    "print(paragraph, \"\\n\")\n",
    "embedding_features = embedding_features.reshape(768)\n",
    "# Neural Network with dropout + early stop\n",
    "model_dropout = FeedForwardNeuralNetwork(layer_features, embedding_size)\n",
    "model_dropout.load_state_dict(torch.load(os.getcwd() + \"/data/models/drop_early.path\"))\n",
    "model_dropout.eval()\n",
    "model_dropout_pred = model_dropout(embedding_features.cpu())\n",
    "\n",
    "# Neural Network with cycal learning\n",
    "model_cycle = FeedForwardNeuralNetwork(layer_features, embedding_size)\n",
    "model_cycle.load_state_dict(torch.load(os.getcwd() + \"/data/models/cycle_learning.path\"))\n",
    "model_cycle.eval()\n",
    "model_cycle_pred = model_cycle(embedding_features.cpu())\n",
    "\n",
    "np.set_printoptions(formatter={'float': lambda x: \"{0:0.3f}\".format(x)})\n",
    "\n",
    "# Show the result\n",
    "print(\"The ground truth of the confession\")\n",
    "print(ground_truth.cpu().detach().numpy(), \"\\n\\n\")\n",
    "\n",
    "print(\"The prediction of fastai_bert\")\n",
    "print(fastai_bert_pred.squeeze(0).cpu().detach().numpy(), loss_func(ground_truth.squeeze(0), fastai_bert_pred).item(), \"\\n\\n\")\n",
    "\n",
    "print(\"The prediction of dropout + early stop\")\n",
    "print(model_dropout_pred.detach().numpy(), loss_func(ground_truth.squeeze(0), model_dropout_pred.to(device)).item(), \"\\n\\n\")\n",
    "\n",
    "print(\"The prediction of cycle learning + dropout\")\n",
    "print(model_cycle_pred.detach().numpy(), loss_func(ground_truth.squeeze(0), model_cycle_pred.to(device)).item(), \"\\n\\n\")"
   ]
  },
  {
   "cell_type": "code",
   "execution_count": null,
   "metadata": {
    "colab": {},
    "colab_type": "code",
    "id": "GCdQcl1EcXPJ"
   },
   "outputs": [],
   "source": []
  }
 ],
 "metadata": {
  "accelerator": "GPU",
  "colab": {
   "collapsed_sections": [
    "KSeKvAsdS-iF",
    "rvKPYkstwUZ5",
    "UoH-H5v3yH4C",
    "oCXr8xo5vi94",
    "edjtTSM3d7da"
   ],
   "name": "admin_post_helpers.ipynb",
   "provenance": [],
   "toc_visible": true
  },
  "kernelspec": {
   "display_name": "Python 3",
   "language": "python",
   "name": "python3"
  },
  "language_info": {
   "codemirror_mode": {
    "name": "ipython",
    "version": 3
   },
   "file_extension": ".py",
   "mimetype": "text/x-python",
   "name": "python",
   "nbconvert_exporter": "python",
   "pygments_lexer": "ipython3",
   "version": "3.6.0"
  }
 },
 "nbformat": 4,
 "nbformat_minor": 2
}
